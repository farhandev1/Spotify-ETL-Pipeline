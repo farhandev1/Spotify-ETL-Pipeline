{
 "cells": [
  {
   "cell_type": "markdown",
   "id": "7ef325fa",
   "metadata": {},
   "source": [
    "# Spotify ETL Pipeline\n",
    "This project demonstrates an end-to-end ETL (Extract, Transform, Load) pipeline using the Spotify API and Azure tools. \n",
    "Data is extracted from Spotify playlists, transformed, and prepared for storage.\n"
   ]
  },
  {
   "cell_type": "markdown",
   "id": "fb5a81c1",
   "metadata": {},
   "source": [
    "### Installing Dependencies"
   ]
  },
  {
   "cell_type": "code",
   "execution_count": 1,
   "id": "86bb7fe3",
   "metadata": {
    "scrolled": true
   },
   "outputs": [
    {
     "name": "stdout",
     "output_type": "stream",
     "text": [
      "Requirement already satisfied: spotipy in /Library/Frameworks/Python.framework/Versions/3.13/lib/python3.13/site-packages (2.24.0)\r\n",
      "Requirement already satisfied: pandas in /Library/Frameworks/Python.framework/Versions/3.13/lib/python3.13/site-packages (2.2.3)\r\n",
      "Requirement already satisfied: pyodbc in /Library/Frameworks/Python.framework/Versions/3.13/lib/python3.13/site-packages (5.2.0)\r\n",
      "Requirement already satisfied: sqlalchemy in /Library/Frameworks/Python.framework/Versions/3.13/lib/python3.13/site-packages (2.0.36)\r\n",
      "Requirement already satisfied: scikit-learn in /Library/Frameworks/Python.framework/Versions/3.13/lib/python3.13/site-packages (1.6.0)\r\n",
      "Requirement already satisfied: matplotlib in /Library/Frameworks/Python.framework/Versions/3.13/lib/python3.13/site-packages (3.9.3)\r\n",
      "Requirement already satisfied: redis>=3.5.3 in /Library/Frameworks/Python.framework/Versions/3.13/lib/python3.13/site-packages (from spotipy) (5.2.1)\r\n",
      "Requirement already satisfied: requests>=2.25.0 in /Library/Frameworks/Python.framework/Versions/3.13/lib/python3.13/site-packages (from spotipy) (2.32.3)\r\n",
      "Requirement already satisfied: urllib3>=1.26.0 in /Library/Frameworks/Python.framework/Versions/3.13/lib/python3.13/site-packages (from spotipy) (2.2.3)\r\n",
      "Requirement already satisfied: numpy>=1.26.0 in /Library/Frameworks/Python.framework/Versions/3.13/lib/python3.13/site-packages (from pandas) (2.1.3)\r\n",
      "Requirement already satisfied: python-dateutil>=2.8.2 in /Library/Frameworks/Python.framework/Versions/3.13/lib/python3.13/site-packages (from pandas) (2.9.0.post0)\r\n",
      "Requirement already satisfied: pytz>=2020.1 in /Library/Frameworks/Python.framework/Versions/3.13/lib/python3.13/site-packages (from pandas) (2024.2)\r\n",
      "Requirement already satisfied: tzdata>=2022.7 in /Library/Frameworks/Python.framework/Versions/3.13/lib/python3.13/site-packages (from pandas) (2024.2)\r\n",
      "Requirement already satisfied: typing-extensions>=4.6.0 in /Library/Frameworks/Python.framework/Versions/3.13/lib/python3.13/site-packages (from sqlalchemy) (4.12.2)\r\n",
      "Requirement already satisfied: scipy>=1.6.0 in /Library/Frameworks/Python.framework/Versions/3.13/lib/python3.13/site-packages (from scikit-learn) (1.14.1)\r\n",
      "Requirement already satisfied: joblib>=1.2.0 in /Library/Frameworks/Python.framework/Versions/3.13/lib/python3.13/site-packages (from scikit-learn) (1.4.2)\r\n",
      "Requirement already satisfied: threadpoolctl>=3.1.0 in /Library/Frameworks/Python.framework/Versions/3.13/lib/python3.13/site-packages (from scikit-learn) (3.5.0)\r\n",
      "Requirement already satisfied: contourpy>=1.0.1 in /Library/Frameworks/Python.framework/Versions/3.13/lib/python3.13/site-packages (from matplotlib) (1.3.1)\r\n",
      "Requirement already satisfied: cycler>=0.10 in /Library/Frameworks/Python.framework/Versions/3.13/lib/python3.13/site-packages (from matplotlib) (0.12.1)\r\n",
      "Requirement already satisfied: fonttools>=4.22.0 in /Library/Frameworks/Python.framework/Versions/3.13/lib/python3.13/site-packages (from matplotlib) (4.55.2)\r\n",
      "Requirement already satisfied: kiwisolver>=1.3.1 in /Library/Frameworks/Python.framework/Versions/3.13/lib/python3.13/site-packages (from matplotlib) (1.4.7)\r\n",
      "Requirement already satisfied: packaging>=20.0 in /Library/Frameworks/Python.framework/Versions/3.13/lib/python3.13/site-packages (from matplotlib) (24.2)\r\n",
      "Requirement already satisfied: pillow>=8 in /Library/Frameworks/Python.framework/Versions/3.13/lib/python3.13/site-packages (from matplotlib) (11.0.0)\r\n",
      "Requirement already satisfied: pyparsing>=2.3.1 in /Library/Frameworks/Python.framework/Versions/3.13/lib/python3.13/site-packages (from matplotlib) (3.2.0)\r\n",
      "Requirement already satisfied: six>=1.5 in /Library/Frameworks/Python.framework/Versions/3.13/lib/python3.13/site-packages (from python-dateutil>=2.8.2->pandas) (1.17.0)\r\n",
      "Requirement already satisfied: charset-normalizer<4,>=2 in /Library/Frameworks/Python.framework/Versions/3.13/lib/python3.13/site-packages (from requests>=2.25.0->spotipy) (3.4.0)\r\n",
      "Requirement already satisfied: idna<4,>=2.5 in /Library/Frameworks/Python.framework/Versions/3.13/lib/python3.13/site-packages (from requests>=2.25.0->spotipy) (3.10)\r\n",
      "Requirement already satisfied: certifi>=2017.4.17 in /Library/Frameworks/Python.framework/Versions/3.13/lib/python3.13/site-packages (from requests>=2.25.0->spotipy) (2024.8.30)\r\n"
     ]
    }
   ],
   "source": [
    "# Installing required libraries\n",
    "!pip3 install spotipy pandas pyodbc sqlalchemy scikit-learn matplotlib"
   ]
  },
  {
   "cell_type": "markdown",
   "id": "8aeba015",
   "metadata": {},
   "source": [
    "###  Authentication with Spotify API"
   ]
  },
  {
   "cell_type": "code",
   "execution_count": 2,
   "id": "45e92e3c",
   "metadata": {},
   "outputs": [
    {
     "name": "stdout",
     "output_type": "stream",
     "text": [
      "Authentication successful!\n"
     ]
    }
   ],
   "source": [
    "import spotipy\n",
    "from spotipy.oauth2 import SpotifyOAuth\n",
    "\n",
    "# Spotify API credentials\n",
    "client_id = \"2203ef17b67c4cd08affbf355b164b0b\"  # Client ID\n",
    "client_secret = \"8d5ccac168e146dfafe817e5b1e05fd0\"  # Client Secret\n",
    "\n",
    "# Authenticate with Spotify\n",
    "sp = spotipy.Spotify(auth_manager=SpotifyOAuth(\n",
    "    client_id=client_id,\n",
    "    client_secret=client_secret,\n",
    "    redirect_uri=\"http://localhost:6060/callback\",\n",
    "    scope=\"playlist-read-private\"\n",
    "))\n",
    "print(\"Authentication successful!\")"
   ]
  },
  {
   "cell_type": "markdown",
   "id": "78558c24",
   "metadata": {},
   "source": [
    "## Extract"
   ]
  },
  {
   "cell_type": "markdown",
   "id": "a73cf3ec",
   "metadata": {},
   "source": [
    "### Extract Playlist Data"
   ]
  },
  {
   "cell_type": "markdown",
   "id": "8e4bca63",
   "metadata": {},
   "source": [
    "I will be choosing my personal favorite spotify playlist 'Rap' and extract the playlist data."
   ]
  },
  {
   "cell_type": "code",
   "execution_count": 3,
   "id": "4bf7cd77",
   "metadata": {},
   "outputs": [
    {
     "data": {
      "text/plain": [
       "[{'Track Name': 'Toosie Slide',\n",
       "  'Artist': 'Drake',\n",
       "  'Album': 'Dark Lane Demo Tapes',\n",
       "  'Release Date': '2020-05-01',\n",
       "  'Popularity': 66},\n",
       " {'Track Name': 'Chicago Freestyle (feat. Giveon)',\n",
       "  'Artist': 'Drake',\n",
       "  'Album': 'Dark Lane Demo Tapes',\n",
       "  'Release Date': '2020-05-01',\n",
       "  'Popularity': 76},\n",
       " {'Track Name': 'Money In The Grave (Drake ft. Rick Ross)',\n",
       "  'Artist': 'Drake',\n",
       "  'Album': 'The Best In The World Pack',\n",
       "  'Release Date': '2019-06-15',\n",
       "  'Popularity': 73},\n",
       " {'Track Name': \"God's Plan\",\n",
       "  'Artist': 'Drake',\n",
       "  'Album': 'Scorpion',\n",
       "  'Release Date': '2018-06-29',\n",
       "  'Popularity': 81},\n",
       " {'Track Name': 'Nonstop',\n",
       "  'Artist': 'Drake',\n",
       "  'Album': 'Scorpion',\n",
       "  'Release Date': '2018-06-29',\n",
       "  'Popularity': 74}]"
      ]
     },
     "execution_count": 3,
     "metadata": {},
     "output_type": "execute_result"
    }
   ],
   "source": [
    "playlist_id = \"2O6rARZJi8IoXLiUdXZPJ3\" # Personal playlist\n",
    "results = sp.playlist_tracks(playlist_id)\n",
    "\n",
    "\n",
    "# Extract track details\n",
    "track_data = []\n",
    "for item in results['items']:\n",
    "    track = item['track']\n",
    "    track_data.append({\n",
    "        'Track Name': track['name'],\n",
    "        'Artist': track['artists'][0]['name'],\n",
    "        'Album': track['album']['name'],\n",
    "        'Release Date': track['album']['release_date'],\n",
    "        'Popularity': track['popularity']\n",
    "    })\n",
    "\n",
    "# Display first 5 tracks\n",
    "track_data[:5]"
   ]
  },
  {
   "cell_type": "markdown",
   "id": "f28f97f8",
   "metadata": {},
   "source": [
    "### Saving data to CSV"
   ]
  },
  {
   "cell_type": "code",
   "execution_count": 4,
   "id": "6aad990c",
   "metadata": {
    "scrolled": true
   },
   "outputs": [
    {
     "data": {
      "text/html": [
       "<div>\n",
       "<style scoped>\n",
       "    .dataframe tbody tr th:only-of-type {\n",
       "        vertical-align: middle;\n",
       "    }\n",
       "\n",
       "    .dataframe tbody tr th {\n",
       "        vertical-align: top;\n",
       "    }\n",
       "\n",
       "    .dataframe thead th {\n",
       "        text-align: right;\n",
       "    }\n",
       "</style>\n",
       "<table border=\"1\" class=\"dataframe\">\n",
       "  <thead>\n",
       "    <tr style=\"text-align: right;\">\n",
       "      <th></th>\n",
       "      <th>Track Name</th>\n",
       "      <th>Artist</th>\n",
       "      <th>Album</th>\n",
       "      <th>Release Date</th>\n",
       "      <th>Popularity</th>\n",
       "    </tr>\n",
       "  </thead>\n",
       "  <tbody>\n",
       "    <tr>\n",
       "      <th>0</th>\n",
       "      <td>Toosie Slide</td>\n",
       "      <td>Drake</td>\n",
       "      <td>Dark Lane Demo Tapes</td>\n",
       "      <td>2020-05-01</td>\n",
       "      <td>66</td>\n",
       "    </tr>\n",
       "    <tr>\n",
       "      <th>1</th>\n",
       "      <td>Chicago Freestyle (feat. Giveon)</td>\n",
       "      <td>Drake</td>\n",
       "      <td>Dark Lane Demo Tapes</td>\n",
       "      <td>2020-05-01</td>\n",
       "      <td>76</td>\n",
       "    </tr>\n",
       "    <tr>\n",
       "      <th>2</th>\n",
       "      <td>Money In The Grave (Drake ft. Rick Ross)</td>\n",
       "      <td>Drake</td>\n",
       "      <td>The Best In The World Pack</td>\n",
       "      <td>2019-06-15</td>\n",
       "      <td>73</td>\n",
       "    </tr>\n",
       "    <tr>\n",
       "      <th>3</th>\n",
       "      <td>God's Plan</td>\n",
       "      <td>Drake</td>\n",
       "      <td>Scorpion</td>\n",
       "      <td>2018-06-29</td>\n",
       "      <td>81</td>\n",
       "    </tr>\n",
       "    <tr>\n",
       "      <th>4</th>\n",
       "      <td>Nonstop</td>\n",
       "      <td>Drake</td>\n",
       "      <td>Scorpion</td>\n",
       "      <td>2018-06-29</td>\n",
       "      <td>74</td>\n",
       "    </tr>\n",
       "  </tbody>\n",
       "</table>\n",
       "</div>"
      ],
      "text/plain": [
       "                                 Track Name Artist  \\\n",
       "0                              Toosie Slide  Drake   \n",
       "1          Chicago Freestyle (feat. Giveon)  Drake   \n",
       "2  Money In The Grave (Drake ft. Rick Ross)  Drake   \n",
       "3                                God's Plan  Drake   \n",
       "4                                   Nonstop  Drake   \n",
       "\n",
       "                        Album Release Date  Popularity  \n",
       "0        Dark Lane Demo Tapes   2020-05-01          66  \n",
       "1        Dark Lane Demo Tapes   2020-05-01          76  \n",
       "2  The Best In The World Pack   2019-06-15          73  \n",
       "3                    Scorpion   2018-06-29          81  \n",
       "4                    Scorpion   2018-06-29          74  "
      ]
     },
     "execution_count": 4,
     "metadata": {},
     "output_type": "execute_result"
    }
   ],
   "source": [
    "import pandas as pd\n",
    "\n",
    "# Convert track data to a DataFrame\n",
    "df = pd.DataFrame(track_data)\n",
    "\n",
    "# Save to CSV\n",
    "df.to_csv('rap_playlist_tracks.csv', index=False)\n",
    "df.head()\n"
   ]
  },
  {
   "cell_type": "markdown",
   "id": "f8dfb98d",
   "metadata": {},
   "source": [
    "## Transform"
   ]
  },
  {
   "cell_type": "markdown",
   "id": "1ad7682d",
   "metadata": {},
   "source": [
    "### Transforming the Data"
   ]
  },
  {
   "cell_type": "markdown",
   "id": "475ec61d",
   "metadata": {},
   "source": [
    "In this step, we will clean and prepare the extracted data for storage in a database. This includes tasks like normalizing fields, handling missing data, and adding calculated metrics."
   ]
  },
  {
   "cell_type": "code",
   "execution_count": 5,
   "id": "e0895ab2",
   "metadata": {},
   "outputs": [
    {
     "data": {
      "text/html": [
       "<div>\n",
       "<style scoped>\n",
       "    .dataframe tbody tr th:only-of-type {\n",
       "        vertical-align: middle;\n",
       "    }\n",
       "\n",
       "    .dataframe tbody tr th {\n",
       "        vertical-align: top;\n",
       "    }\n",
       "\n",
       "    .dataframe thead th {\n",
       "        text-align: right;\n",
       "    }\n",
       "</style>\n",
       "<table border=\"1\" class=\"dataframe\">\n",
       "  <thead>\n",
       "    <tr style=\"text-align: right;\">\n",
       "      <th></th>\n",
       "      <th>Track Name</th>\n",
       "      <th>Artist</th>\n",
       "      <th>Album</th>\n",
       "      <th>Release Date</th>\n",
       "      <th>Popularity</th>\n",
       "    </tr>\n",
       "  </thead>\n",
       "  <tbody>\n",
       "    <tr>\n",
       "      <th>0</th>\n",
       "      <td>Toosie Slide</td>\n",
       "      <td>Drake</td>\n",
       "      <td>Dark Lane Demo Tapes</td>\n",
       "      <td>2020-05-01</td>\n",
       "      <td>66</td>\n",
       "    </tr>\n",
       "    <tr>\n",
       "      <th>1</th>\n",
       "      <td>Chicago Freestyle (feat. Giveon)</td>\n",
       "      <td>Drake</td>\n",
       "      <td>Dark Lane Demo Tapes</td>\n",
       "      <td>2020-05-01</td>\n",
       "      <td>76</td>\n",
       "    </tr>\n",
       "    <tr>\n",
       "      <th>2</th>\n",
       "      <td>Money In The Grave (Drake ft. Rick Ross)</td>\n",
       "      <td>Drake</td>\n",
       "      <td>The Best In The World Pack</td>\n",
       "      <td>2019-06-15</td>\n",
       "      <td>73</td>\n",
       "    </tr>\n",
       "    <tr>\n",
       "      <th>3</th>\n",
       "      <td>God's Plan</td>\n",
       "      <td>Drake</td>\n",
       "      <td>Scorpion</td>\n",
       "      <td>2018-06-29</td>\n",
       "      <td>81</td>\n",
       "    </tr>\n",
       "    <tr>\n",
       "      <th>4</th>\n",
       "      <td>Nonstop</td>\n",
       "      <td>Drake</td>\n",
       "      <td>Scorpion</td>\n",
       "      <td>2018-06-29</td>\n",
       "      <td>74</td>\n",
       "    </tr>\n",
       "  </tbody>\n",
       "</table>\n",
       "</div>"
      ],
      "text/plain": [
       "                                 Track Name Artist  \\\n",
       "0                              Toosie Slide  Drake   \n",
       "1          Chicago Freestyle (feat. Giveon)  Drake   \n",
       "2  Money In The Grave (Drake ft. Rick Ross)  Drake   \n",
       "3                                God's Plan  Drake   \n",
       "4                                   Nonstop  Drake   \n",
       "\n",
       "                        Album Release Date  Popularity  \n",
       "0        Dark Lane Demo Tapes   2020-05-01          66  \n",
       "1        Dark Lane Demo Tapes   2020-05-01          76  \n",
       "2  The Best In The World Pack   2019-06-15          73  \n",
       "3                    Scorpion   2018-06-29          81  \n",
       "4                    Scorpion   2018-06-29          74  "
      ]
     },
     "execution_count": 5,
     "metadata": {},
     "output_type": "execute_result"
    }
   ],
   "source": [
    "import pandas as pd\n",
    "\n",
    "# Load the CSV file\n",
    "df = pd.read_csv('rap_playlist_tracks.csv')\n",
    "\n",
    "# Display the first few rows\n",
    "df.head()\n"
   ]
  },
  {
   "cell_type": "markdown",
   "id": "c8a4b039",
   "metadata": {},
   "source": [
    "Inspecting the data"
   ]
  },
  {
   "cell_type": "code",
   "execution_count": 6,
   "id": "b55f6e21",
   "metadata": {},
   "outputs": [
    {
     "name": "stdout",
     "output_type": "stream",
     "text": [
      "<class 'pandas.core.frame.DataFrame'>\n",
      "RangeIndex: 97 entries, 0 to 96\n",
      "Data columns (total 5 columns):\n",
      " #   Column        Non-Null Count  Dtype \n",
      "---  ------        --------------  ----- \n",
      " 0   Track Name    97 non-null     object\n",
      " 1   Artist        97 non-null     object\n",
      " 2   Album         97 non-null     object\n",
      " 3   Release Date  97 non-null     object\n",
      " 4   Popularity    97 non-null     int64 \n",
      "dtypes: int64(1), object(4)\n",
      "memory usage: 3.9+ KB\n",
      "None\n",
      "       Popularity\n",
      "count   97.000000\n",
      "mean    64.958763\n",
      "std     14.819692\n",
      "min      0.000000\n",
      "25%     58.000000\n",
      "50%     66.000000\n",
      "75%     75.000000\n",
      "max     88.000000\n",
      "Track Name      0\n",
      "Artist          0\n",
      "Album           0\n",
      "Release Date    0\n",
      "Popularity      0\n",
      "dtype: int64\n"
     ]
    }
   ],
   "source": [
    "# Display column data types and summary\n",
    "print(df.info())\n",
    "\n",
    "# Summary statistics\n",
    "print(df.describe())\n",
    "\n",
    "# Check for missing values\n",
    "print(df.isnull().sum())\n"
   ]
  },
  {
   "cell_type": "markdown",
   "id": "921ee10b",
   "metadata": {},
   "source": [
    "Converting 'Release Date' to datetime format"
   ]
  },
  {
   "cell_type": "code",
   "execution_count": 7,
   "id": "912b102d",
   "metadata": {},
   "outputs": [],
   "source": [
    "# Convert 'Release Date' to datetime and extract the year\n",
    "df['Release Date'] = pd.to_datetime(df['Release Date'], errors='coerce')\n",
    "df['Release Year'] = df['Release Date'].dt.year\n"
   ]
  },
  {
   "cell_type": "markdown",
   "id": "fd144830",
   "metadata": {},
   "source": [
    "Scaling popularity to a range of 0–1"
   ]
  },
  {
   "cell_type": "code",
   "execution_count": 8,
   "id": "9702f847",
   "metadata": {},
   "outputs": [],
   "source": [
    "import sklearn\n",
    "from sklearn.preprocessing import MinMaxScaler\n",
    "\n",
    "scaler = MinMaxScaler()\n",
    "df['Popularity Scaled'] = scaler.fit_transform(df[['Popularity']])\n"
   ]
  },
  {
   "cell_type": "code",
   "execution_count": 9,
   "id": "3468c43d",
   "metadata": {},
   "outputs": [],
   "source": [
    "df['Track Name Length'] = df['Track Name'].apply(len) # For Analysis"
   ]
  },
  {
   "cell_type": "markdown",
   "id": "e9bac633",
   "metadata": {},
   "source": [
    "### Some basic visual insights"
   ]
  },
  {
   "cell_type": "code",
   "execution_count": 10,
   "id": "abd6c361",
   "metadata": {},
   "outputs": [
    {
     "name": "stderr",
     "output_type": "stream",
     "text": [
      "Matplotlib is building the font cache; this may take a moment.\n"
     ]
    }
   ],
   "source": [
    "import matplotlib.pyplot as plt"
   ]
  },
  {
   "cell_type": "markdown",
   "id": "da9abe9e",
   "metadata": {},
   "source": [
    "#### Lets find out the top 10 most frequent artists"
   ]
  },
  {
   "cell_type": "code",
   "execution_count": 11,
   "id": "f6d2a8c0",
   "metadata": {},
   "outputs": [
    {
     "data": {
      "image/png": "[encoded data removed]",
      "text/plain": [
       "<Figure size 1000x600 with 1 Axes>"
      ]
     },
     "metadata": {},
     "output_type": "display_data"
    }
   ],
   "source": [
    "# Count the frequency of each artist\n",
    "artist_counts = df['Artist'].value_counts().head(10)\n",
    "\n",
    "# Plot the top 10 most frequent artists\n",
    "plt.figure(figsize=(10, 6))\n",
    "artist_counts.plot(kind='bar', color='purple')\n",
    "plt.title('Top 10 Most Frequent Artists')\n",
    "plt.xlabel('Artist')\n",
    "plt.ylabel('Number of Tracks')\n",
    "plt.xticks(rotation=45)\n",
    "plt.show()\n"
   ]
  },
  {
   "cell_type": "markdown",
   "id": "035dee45",
   "metadata": {},
   "source": [
    "Hence confirmed Drake is definetely my favorite rapper."
   ]
  },
  {
   "cell_type": "markdown",
   "id": "ff6f55bd",
   "metadata": {},
   "source": [
    "#### Lets visualise top 10 most popular tracks"
   ]
  },
  {
   "cell_type": "code",
   "execution_count": 12,
   "id": "60902393",
   "metadata": {},
   "outputs": [
    {
     "data": {
      "image/png": "[encoded data removed]",
      "text/plain": [
       "<Figure size 1200x600 with 1 Axes>"
      ]
     },
     "metadata": {},
     "output_type": "display_data"
    }
   ],
   "source": [
    "# Sort tracks by popularity and get top 10\n",
    "top_10_tracks = df[['Track Name', 'Artist', 'Album', 'Popularity']].sort_values(by='Popularity', ascending=False).head(10)\n",
    "\n",
    "# Plot a horizontal bar chart\n",
    "plt.figure(figsize=(12, 6))\n",
    "bars = plt.barh(top_10_tracks['Track Name'], top_10_tracks['Popularity'], color='skyblue')\n",
    "plt.title('Top 10 Most Popular Tracks')\n",
    "plt.xlabel('Popularity')\n",
    "plt.ylabel('Track Name')\n",
    "plt.gca().invert_yaxis()  # Highest popularity at the top\n",
    "\n",
    "# Add popularity values on the bars\n",
    "for bar in bars:\n",
    "    plt.text(bar.get_width() + 1, bar.get_y() + bar.get_height()/2,  # Position text at end of bar\n",
    "             f'{bar.get_width():.0f}', va='center')\n",
    "\n",
    "plt.show()\n",
    "\n"
   ]
  },
  {
   "cell_type": "markdown",
   "id": "a027902b",
   "metadata": {},
   "source": [
    "Ofcourse, the latest diss track 'Not like us' by Kendrick Lamar is at the top."
   ]
  },
  {
   "cell_type": "markdown",
   "id": "66a60b58",
   "metadata": {},
   "source": [
    "### Saving transformed data"
   ]
  },
  {
   "cell_type": "code",
   "execution_count": 13,
   "id": "0860dd66",
   "metadata": {},
   "outputs": [
    {
     "name": "stdout",
     "output_type": "stream",
     "text": [
      "Transformed data saved to rap_playlist_transformed.csv\n"
     ]
    }
   ],
   "source": [
    "# Save the transformed DataFrame\n",
    "df.to_csv('rap_playlist_transformed.csv', index=False)\n",
    "print(\"Transformed data saved to rap_playlist_transformed.csv\")\n"
   ]
  },
  {
   "cell_type": "markdown",
   "id": "04d765f9",
   "metadata": {},
   "source": [
    "## Load"
   ]
  },
  {
   "cell_type": "markdown",
   "id": "710cabe0",
   "metadata": {},
   "source": [
    "Connecting to Azure SQL database and loading the CSV file"
   ]
  },
  {
   "cell_type": "code",
   "execution_count": 14,
   "id": "4b43154f",
   "metadata": {},
   "outputs": [
    {
     "name": "stdout",
     "output_type": "stream",
     "text": [
      "Connection Successful\n"
     ]
    }
   ],
   "source": [
    "from sqlalchemy import create_engine\n",
    "import pandas as pd\n",
    "\n",
    "# Load the transformed CSV data\n",
    "df = pd.read_csv('rap_playlist_transformed.csv')\n",
    "\n",
    "# Database connection details\n",
    "server = 'spotify-sql-server.database.windows.net'  # Replace with your Azure SQL server\n",
    "database = 'SpotifyDB'\n",
    "username = 'SQL_server'  # SQL username\n",
    "password = 'Tajmahal1'  # SQL password\n",
    "driver = 'ODBC Driver 18 for SQL Server'\n",
    "\n",
    "# Creating a database connection\n",
    "connection_string = f\"mssql+pyodbc://{username}:{password}@{server}/{database}?driver={driver}\"\n",
    "engine = create_engine(connection_string)\n",
    "\n",
    "print(\"Connection Successful\")\n"
   ]
  },
  {
   "cell_type": "code",
   "execution_count": 16,
   "id": "3538d1c3",
   "metadata": {},
   "outputs": [
    {
     "name": "stdout",
     "output_type": "stream",
     "text": [
      "Data successfully loaded into table 'RapPlaylist'!\n"
     ]
    }
   ],
   "source": [
    "# Write data to SQL table\n",
    "table_name = 'RapPlaylist'\n",
    "df.to_sql(table_name, engine, if_exists='replace', index=False)\n",
    "print(f\"Data successfully loaded into table '{table_name}'!\")"
   ]
  },
  {
   "cell_type": "code",
   "execution_count": 17,
   "id": "95536cf4",
   "metadata": {
    "scrolled": false
   },
   "outputs": [
    {
     "name": "stdout",
     "output_type": "stream",
     "text": [
      "Data successfully fetched from the SQL table.\n"
     ]
    },
    {
     "data": {
      "text/html": [
       "<div>\n",
       "<style scoped>\n",
       "    .dataframe tbody tr th:only-of-type {\n",
       "        vertical-align: middle;\n",
       "    }\n",
       "\n",
       "    .dataframe tbody tr th {\n",
       "        vertical-align: top;\n",
       "    }\n",
       "\n",
       "    .dataframe thead th {\n",
       "        text-align: right;\n",
       "    }\n",
       "</style>\n",
       "<table border=\"1\" class=\"dataframe\">\n",
       "  <thead>\n",
       "    <tr style=\"text-align: right;\">\n",
       "      <th></th>\n",
       "      <th>Track Name</th>\n",
       "      <th>Artist</th>\n",
       "      <th>Album</th>\n",
       "      <th>Release Date</th>\n",
       "      <th>Popularity</th>\n",
       "      <th>Release Year</th>\n",
       "      <th>Popularity Scaled</th>\n",
       "      <th>Track Name Length</th>\n",
       "    </tr>\n",
       "  </thead>\n",
       "  <tbody>\n",
       "    <tr>\n",
       "      <th>0</th>\n",
       "      <td>Toosie Slide</td>\n",
       "      <td>Drake</td>\n",
       "      <td>Dark Lane Demo Tapes</td>\n",
       "      <td>2020-05-01</td>\n",
       "      <td>66</td>\n",
       "      <td>2020</td>\n",
       "      <td>0.750000</td>\n",
       "      <td>12</td>\n",
       "    </tr>\n",
       "    <tr>\n",
       "      <th>1</th>\n",
       "      <td>Chicago Freestyle (feat. Giveon)</td>\n",
       "      <td>Drake</td>\n",
       "      <td>Dark Lane Demo Tapes</td>\n",
       "      <td>2020-05-01</td>\n",
       "      <td>76</td>\n",
       "      <td>2020</td>\n",
       "      <td>0.863636</td>\n",
       "      <td>32</td>\n",
       "    </tr>\n",
       "    <tr>\n",
       "      <th>2</th>\n",
       "      <td>Money In The Grave (Drake ft. Rick Ross)</td>\n",
       "      <td>Drake</td>\n",
       "      <td>The Best In The World Pack</td>\n",
       "      <td>2019-06-15</td>\n",
       "      <td>73</td>\n",
       "      <td>2019</td>\n",
       "      <td>0.829545</td>\n",
       "      <td>40</td>\n",
       "    </tr>\n",
       "    <tr>\n",
       "      <th>3</th>\n",
       "      <td>God's Plan</td>\n",
       "      <td>Drake</td>\n",
       "      <td>Scorpion</td>\n",
       "      <td>2018-06-29</td>\n",
       "      <td>81</td>\n",
       "      <td>2018</td>\n",
       "      <td>0.920455</td>\n",
       "      <td>10</td>\n",
       "    </tr>\n",
       "    <tr>\n",
       "      <th>4</th>\n",
       "      <td>Nonstop</td>\n",
       "      <td>Drake</td>\n",
       "      <td>Scorpion</td>\n",
       "      <td>2018-06-29</td>\n",
       "      <td>74</td>\n",
       "      <td>2018</td>\n",
       "      <td>0.840909</td>\n",
       "      <td>7</td>\n",
       "    </tr>\n",
       "    <tr>\n",
       "      <th>...</th>\n",
       "      <td>...</td>\n",
       "      <td>...</td>\n",
       "      <td>...</td>\n",
       "      <td>...</td>\n",
       "      <td>...</td>\n",
       "      <td>...</td>\n",
       "      <td>...</td>\n",
       "      <td>...</td>\n",
       "    </tr>\n",
       "    <tr>\n",
       "      <th>92</th>\n",
       "      <td>WHATS POPPIN</td>\n",
       "      <td>Jack Harlow</td>\n",
       "      <td>Sweet Action</td>\n",
       "      <td>2020-03-13</td>\n",
       "      <td>72</td>\n",
       "      <td>2020</td>\n",
       "      <td>0.818182</td>\n",
       "      <td>12</td>\n",
       "    </tr>\n",
       "    <tr>\n",
       "      <th>93</th>\n",
       "      <td>CrasH</td>\n",
       "      <td>ScHoolboy Q</td>\n",
       "      <td>CrasH Talk</td>\n",
       "      <td>2019-04-26</td>\n",
       "      <td>58</td>\n",
       "      <td>2019</td>\n",
       "      <td>0.659091</td>\n",
       "      <td>5</td>\n",
       "    </tr>\n",
       "    <tr>\n",
       "      <th>94</th>\n",
       "      <td>Said N Done</td>\n",
       "      <td>21 Savage</td>\n",
       "      <td>SAVAGE MODE II</td>\n",
       "      <td>2020-10-02</td>\n",
       "      <td>57</td>\n",
       "      <td>2020</td>\n",
       "      <td>0.647727</td>\n",
       "      <td>11</td>\n",
       "    </tr>\n",
       "    <tr>\n",
       "      <th>95</th>\n",
       "      <td>née-nah</td>\n",
       "      <td>21 Savage</td>\n",
       "      <td>née-nah</td>\n",
       "      <td>2024-01-10</td>\n",
       "      <td>61</td>\n",
       "      <td>2024</td>\n",
       "      <td>0.693182</td>\n",
       "      <td>7</td>\n",
       "    </tr>\n",
       "    <tr>\n",
       "      <th>96</th>\n",
       "      <td>Not Like Us</td>\n",
       "      <td>Kendrick Lamar</td>\n",
       "      <td>Not Like Us</td>\n",
       "      <td>2024-05-04</td>\n",
       "      <td>88</td>\n",
       "      <td>2024</td>\n",
       "      <td>1.000000</td>\n",
       "      <td>11</td>\n",
       "    </tr>\n",
       "  </tbody>\n",
       "</table>\n",
       "<p>97 rows × 8 columns</p>\n",
       "</div>"
      ],
      "text/plain": [
       "                                  Track Name          Artist  \\\n",
       "0                               Toosie Slide           Drake   \n",
       "1           Chicago Freestyle (feat. Giveon)           Drake   \n",
       "2   Money In The Grave (Drake ft. Rick Ross)           Drake   \n",
       "3                                 God's Plan           Drake   \n",
       "4                                    Nonstop           Drake   \n",
       "..                                       ...             ...   \n",
       "92                              WHATS POPPIN     Jack Harlow   \n",
       "93                                     CrasH     ScHoolboy Q   \n",
       "94                               Said N Done       21 Savage   \n",
       "95                                   née-nah       21 Savage   \n",
       "96                               Not Like Us  Kendrick Lamar   \n",
       "\n",
       "                         Album Release Date  Popularity  Release Year  \\\n",
       "0         Dark Lane Demo Tapes   2020-05-01          66          2020   \n",
       "1         Dark Lane Demo Tapes   2020-05-01          76          2020   \n",
       "2   The Best In The World Pack   2019-06-15          73          2019   \n",
       "3                     Scorpion   2018-06-29          81          2018   \n",
       "4                     Scorpion   2018-06-29          74          2018   \n",
       "..                         ...          ...         ...           ...   \n",
       "92                Sweet Action   2020-03-13          72          2020   \n",
       "93                  CrasH Talk   2019-04-26          58          2019   \n",
       "94              SAVAGE MODE II   2020-10-02          57          2020   \n",
       "95                     née-nah   2024-01-10          61          2024   \n",
       "96                 Not Like Us   2024-05-04          88          2024   \n",
       "\n",
       "    Popularity Scaled  Track Name Length  \n",
       "0            0.750000                 12  \n",
       "1            0.863636                 32  \n",
       "2            0.829545                 40  \n",
       "3            0.920455                 10  \n",
       "4            0.840909                  7  \n",
       "..                ...                ...  \n",
       "92           0.818182                 12  \n",
       "93           0.659091                  5  \n",
       "94           0.647727                 11  \n",
       "95           0.693182                  7  \n",
       "96           1.000000                 11  \n",
       "\n",
       "[97 rows x 8 columns]"
      ]
     },
     "metadata": {},
     "output_type": "display_data"
    }
   ],
   "source": [
    "query = f\"SELECT * FROM {table_name}\"\n",
    "\n",
    "try:\n",
    "    # Load SQL table into a DataFrame\n",
    "    df = pd.read_sql(query, engine)\n",
    "    print(\"Data successfully fetched from the SQL table.\")\n",
    "    display(df)\n",
    "except Exception as e:\n",
    "    print(f\"Error fetching data: {e}\")"
   ]
  },
  {
   "cell_type": "markdown",
   "id": "94e80510",
   "metadata": {},
   "source": [
    "## Modular ETL Code for Automation\n",
    "\n",
    "For deployment and automation purposes, the ETL pipeline has been refactored into a modular format. The refactored code is saved in a separate Python file, `spotify_etl_modular.py`. \n",
    "\n",
    "### Key Benefits:\n",
    "1. Reusability: The modularized functions can handle multiple playlists and configurations.\n",
    "2. Automation: The script is designed for integration with tools like Azure Data Factory.\n",
    "\n",
    "### How to Use:\n",
    "- The Python file can be executed standalone or incorporated into an orchestration tool like Azure Data Factory.\n",
    "- Example command to run the script:\n",
    "    ```bash\n",
    "    python spotify_etl_modular.py\n",
    "    ```\n"
   ]
  },
  {
   "cell_type": "markdown",
   "id": "0f656d09",
   "metadata": {},
   "source": [
    "## Spotify ETL Automation Using Azure Data Factory\n",
    "\n",
    "To demonstrate the automation of the Spotify ETL pipeline, an Azure Data Factory pipeline has been configured with the following steps:\n",
    "\n",
    "1. **Extract Spotify Data**: A Python script fetches data from the Spotify API.\n",
    "2. **Transform Data**: The script cleans and transforms the extracted data.\n",
    "3. **Load to Azure SQL**: The cleaned data is uploaded into an Azure SQL Database.\n",
    "\n",
    "### Pipeline Details\n",
    "- **Automation Tool**: Azure Data Factory\n",
    "- **Python Script Location**: Azure Blob Storage\n",
    "- **Trigger Type**: Weekly recurrence\n"
   ]
  },
  {
   "cell_type": "markdown",
   "id": "18b47407",
   "metadata": {},
   "source": [
    "### Note:\n",
    "To minimize costs, the pipeline has been configured and validated but not executed. The steps and configurations demonstrate the full automation process, making it ready for execution when required.\n"
   ]
  }
 ],
 "metadata": {
  "kernelspec": {
   "display_name": "Python 3.13",
   "language": "python",
   "name": "python3.13"
  },
  "language_info": {
   "codemirror_mode": {
    "name": "ipython",
    "version": 3
   },
   "file_extension": ".py",
   "mimetype": "text/x-python",
   "name": "python",
   "nbconvert_exporter": "python",
   "pygments_lexer": "ipython3",
   "version": "3.13.1"
  }
 },
 "nbformat": 4,
 "nbformat_minor": 5
}
