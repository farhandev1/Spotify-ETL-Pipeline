{
 "cells": [
  {
   "cell_type": "markdown",
   "id": "b74e7888",
   "metadata": {},
   "source": [
    "# Spotify ETL Pipeline\n",
    "This project demonstrates an end-to-end ETL (Extract, Transform, Load) pipeline using the Spotify API and Azure tools. \n",
    "Data is extracted from Spotify playlists, transformed, and prepared for storage.\n"
   ]
  },
  {
   "cell_type": "markdown",
   "id": "3a18c098",
   "metadata": {},
   "source": [
    "### Installing Dependencies"
   ]
  },
  {
   "cell_type": "code",
   "execution_count": 1,
   "id": "3caf9bce",
   "metadata": {},
   "outputs": [
    {
     "name": "stdout",
     "output_type": "stream",
     "text": [
      "Requirement already satisfied: spotipy in /Users/farhan/anaconda3/lib/python3.11/site-packages (2.24.0)\r\n",
      "Requirement already satisfied: pandas in /Users/farhan/anaconda3/lib/python3.11/site-packages (1.5.3)\r\n",
      "Requirement already satisfied: redis>=3.5.3 in /Users/farhan/anaconda3/lib/python3.11/site-packages (from spotipy) (5.2.0)\r\n",
      "Requirement already satisfied: requests>=2.25.0 in /Users/farhan/anaconda3/lib/python3.11/site-packages (from spotipy) (2.31.0)\r\n",
      "Requirement already satisfied: urllib3>=1.26.0 in /Users/farhan/anaconda3/lib/python3.11/site-packages (from spotipy) (1.26.16)\r\n",
      "Requirement already satisfied: python-dateutil>=2.8.1 in /Users/farhan/anaconda3/lib/python3.11/site-packages (from pandas) (2.8.2)\r\n",
      "Requirement already satisfied: pytz>=2020.1 in /Users/farhan/anaconda3/lib/python3.11/site-packages (from pandas) (2022.7)\r\n",
      "Requirement already satisfied: numpy>=1.21.0 in /Users/farhan/anaconda3/lib/python3.11/site-packages (from pandas) (1.24.3)\r\n",
      "Requirement already satisfied: six>=1.5 in /Users/farhan/anaconda3/lib/python3.11/site-packages (from python-dateutil>=2.8.1->pandas) (1.16.0)\r\n",
      "Requirement already satisfied: charset-normalizer<4,>=2 in /Users/farhan/anaconda3/lib/python3.11/site-packages (from requests>=2.25.0->spotipy) (2.0.4)\r\n",
      "Requirement already satisfied: idna<4,>=2.5 in /Users/farhan/anaconda3/lib/python3.11/site-packages (from requests>=2.25.0->spotipy) (3.4)\r\n",
      "Requirement already satisfied: certifi>=2017.4.17 in /Users/farhan/anaconda3/lib/python3.11/site-packages (from requests>=2.25.0->spotipy) (2023.7.22)\r\n"
     ]
    }
   ],
   "source": [
    "# Install required libraries\n",
    "!pip install spotipy pandas\n"
   ]
  },
  {
   "cell_type": "markdown",
   "id": "5e9447c2",
   "metadata": {},
   "source": [
    "###  Authentication with Spotify API"
   ]
  },
  {
   "cell_type": "code",
   "execution_count": 2,
   "id": "12219c69",
   "metadata": {},
   "outputs": [
    {
     "name": "stdout",
     "output_type": "stream",
     "text": [
      "Authentication successful!\n"
     ]
    }
   ],
   "source": [
    "import spotipy\n",
    "from spotipy.oauth2 import SpotifyOAuth\n",
    "\n",
    "# Spotify API credentials\n",
    "client_id = \"2203ef17b67c4cd08affbf355b164b0b\"  # Client ID\n",
    "client_secret = \"8d5ccac168e146dfafe817e5b1e05fd0\"  # Client Secret\n",
    "\n",
    "# Authenticate with Spotify\n",
    "sp = spotipy.Spotify(auth_manager=SpotifyOAuth(\n",
    "    client_id=client_id,\n",
    "    client_secret=client_secret,\n",
    "    redirect_uri=\"http://localhost:6060/callback\",\n",
    "    scope=\"playlist-read-private\"\n",
    "))\n",
    "print(\"Authentication successful!\")"
   ]
  },
  {
   "cell_type": "markdown",
   "id": "8eddd040",
   "metadata": {},
   "source": [
    "### Extract Playlist Data"
   ]
  },
  {
   "cell_type": "markdown",
   "id": "e35d13ba",
   "metadata": {},
   "source": [
    "I will be choosing my personal favorite spotify playlist 'Rap' and extract the playlist data."
   ]
  },
  {
   "cell_type": "code",
   "execution_count": 3,
   "id": "92802b4a",
   "metadata": {
    "scrolled": false
   },
   "outputs": [
    {
     "data": {
      "text/plain": [
       "[{'Track Name': 'Toosie Slide',\n",
       "  'Artist': 'Drake',\n",
       "  'Album': 'Dark Lane Demo Tapes',\n",
       "  'Release Date': '2020-05-01',\n",
       "  'Popularity': 66},\n",
       " {'Track Name': 'Chicago Freestyle (feat. Giveon)',\n",
       "  'Artist': 'Drake',\n",
       "  'Album': 'Dark Lane Demo Tapes',\n",
       "  'Release Date': '2020-05-01',\n",
       "  'Popularity': 76},\n",
       " {'Track Name': 'Money In The Grave (Drake ft. Rick Ross)',\n",
       "  'Artist': 'Drake',\n",
       "  'Album': 'The Best In The World Pack',\n",
       "  'Release Date': '2019-06-15',\n",
       "  'Popularity': 73},\n",
       " {'Track Name': \"God's Plan\",\n",
       "  'Artist': 'Drake',\n",
       "  'Album': 'Scorpion',\n",
       "  'Release Date': '2018-06-29',\n",
       "  'Popularity': 81},\n",
       " {'Track Name': 'Nonstop',\n",
       "  'Artist': 'Drake',\n",
       "  'Album': 'Scorpion',\n",
       "  'Release Date': '2018-06-29',\n",
       "  'Popularity': 74}]"
      ]
     },
     "execution_count": 3,
     "metadata": {},
     "output_type": "execute_result"
    }
   ],
   "source": [
    "playlist_id = \"2O6rARZJi8IoXLiUdXZPJ3\" # Personal playlist\n",
    "results = sp.playlist_tracks(playlist_id)\n",
    "\n",
    "\n",
    "# Extract track details\n",
    "track_data = []\n",
    "for item in results['items']:\n",
    "    track = item['track']\n",
    "    track_data.append({\n",
    "        'Track Name': track['name'],\n",
    "        'Artist': track['artists'][0]['name'],\n",
    "        'Album': track['album']['name'],\n",
    "        'Release Date': track['album']['release_date'],\n",
    "        'Popularity': track['popularity']\n",
    "    })\n",
    "\n",
    "# Display first 5 tracks\n",
    "track_data[:5]"
   ]
  },
  {
   "cell_type": "markdown",
   "id": "32e9a638",
   "metadata": {},
   "source": [
    "### Saving data to CSV"
   ]
  },
  {
   "cell_type": "code",
   "execution_count": 5,
   "id": "f11a6816",
   "metadata": {},
   "outputs": [
    {
     "data": {
      "text/html": [
       "<div>\n",
       "<style scoped>\n",
       "    .dataframe tbody tr th:only-of-type {\n",
       "        vertical-align: middle;\n",
       "    }\n",
       "\n",
       "    .dataframe tbody tr th {\n",
       "        vertical-align: top;\n",
       "    }\n",
       "\n",
       "    .dataframe thead th {\n",
       "        text-align: right;\n",
       "    }\n",
       "</style>\n",
       "<table border=\"1\" class=\"dataframe\">\n",
       "  <thead>\n",
       "    <tr style=\"text-align: right;\">\n",
       "      <th></th>\n",
       "      <th>Track Name</th>\n",
       "      <th>Artist</th>\n",
       "      <th>Album</th>\n",
       "      <th>Release Date</th>\n",
       "      <th>Popularity</th>\n",
       "    </tr>\n",
       "  </thead>\n",
       "  <tbody>\n",
       "    <tr>\n",
       "      <th>0</th>\n",
       "      <td>Toosie Slide</td>\n",
       "      <td>Drake</td>\n",
       "      <td>Dark Lane Demo Tapes</td>\n",
       "      <td>2020-05-01</td>\n",
       "      <td>66</td>\n",
       "    </tr>\n",
       "    <tr>\n",
       "      <th>1</th>\n",
       "      <td>Chicago Freestyle (feat. Giveon)</td>\n",
       "      <td>Drake</td>\n",
       "      <td>Dark Lane Demo Tapes</td>\n",
       "      <td>2020-05-01</td>\n",
       "      <td>76</td>\n",
       "    </tr>\n",
       "    <tr>\n",
       "      <th>2</th>\n",
       "      <td>Money In The Grave (Drake ft. Rick Ross)</td>\n",
       "      <td>Drake</td>\n",
       "      <td>The Best In The World Pack</td>\n",
       "      <td>2019-06-15</td>\n",
       "      <td>73</td>\n",
       "    </tr>\n",
       "    <tr>\n",
       "      <th>3</th>\n",
       "      <td>God's Plan</td>\n",
       "      <td>Drake</td>\n",
       "      <td>Scorpion</td>\n",
       "      <td>2018-06-29</td>\n",
       "      <td>81</td>\n",
       "    </tr>\n",
       "    <tr>\n",
       "      <th>4</th>\n",
       "      <td>Nonstop</td>\n",
       "      <td>Drake</td>\n",
       "      <td>Scorpion</td>\n",
       "      <td>2018-06-29</td>\n",
       "      <td>74</td>\n",
       "    </tr>\n",
       "  </tbody>\n",
       "</table>\n",
       "</div>"
      ],
      "text/plain": [
       "                                 Track Name Artist  \\\n",
       "0                              Toosie Slide  Drake   \n",
       "1          Chicago Freestyle (feat. Giveon)  Drake   \n",
       "2  Money In The Grave (Drake ft. Rick Ross)  Drake   \n",
       "3                                God's Plan  Drake   \n",
       "4                                   Nonstop  Drake   \n",
       "\n",
       "                        Album Release Date  Popularity  \n",
       "0        Dark Lane Demo Tapes   2020-05-01          66  \n",
       "1        Dark Lane Demo Tapes   2020-05-01          76  \n",
       "2  The Best In The World Pack   2019-06-15          73  \n",
       "3                    Scorpion   2018-06-29          81  \n",
       "4                    Scorpion   2018-06-29          74  "
      ]
     },
     "execution_count": 5,
     "metadata": {},
     "output_type": "execute_result"
    }
   ],
   "source": [
    "import pandas as pd\n",
    "\n",
    "# Convert track data to a DataFrame\n",
    "df = pd.DataFrame(track_data)\n",
    "\n",
    "# Save to CSV\n",
    "df.to_csv('rap_playlist_tracks.csv', index=False)\n",
    "df.head()\n"
   ]
  }
 ],
 "metadata": {
  "kernelspec": {
   "display_name": "Python 3 (ipykernel)",
   "language": "python",
   "name": "python3"
  },
  "language_info": {
   "codemirror_mode": {
    "name": "ipython",
    "version": 3
   },
   "file_extension": ".py",
   "mimetype": "text/x-python",
   "name": "python",
   "nbconvert_exporter": "python",
   "pygments_lexer": "ipython3",
   "version": "3.11.4"
  }
 },
 "nbformat": 4,
 "nbformat_minor": 5
}
