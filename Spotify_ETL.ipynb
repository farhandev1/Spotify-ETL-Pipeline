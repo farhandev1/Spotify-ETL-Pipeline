{
 "cells": [
  {
   "cell_type": "markdown",
   "id": "7ef325fa",
   "metadata": {},
   "source": [
    "# Spotify ETL Pipeline\n",
    "This project demonstrates an end-to-end ETL (Extract, Transform, Load) pipeline using the Spotify API and Azure tools. \n",
    "Data is extracted from Spotify playlists, transformed, and prepared for storage.\n"
   ]
  },
  {
   "cell_type": "markdown",
   "id": "fb5a81c1",
   "metadata": {},
   "source": [
    "### Installing Dependencies"
   ]
  },
  {
   "cell_type": "code",
   "execution_count": 1,
   "id": "86bb7fe3",
   "metadata": {},
   "outputs": [
    {
     "name": "stdout",
     "output_type": "stream",
     "text": [
      "Requirement already satisfied: spotipy in /Users/farhan/anaconda3/lib/python3.11/site-packages (2.24.0)\r\n",
      "Requirement already satisfied: pandas in /Users/farhan/anaconda3/lib/python3.11/site-packages (1.5.3)\r\n",
      "Requirement already satisfied: redis>=3.5.3 in /Users/farhan/anaconda3/lib/python3.11/site-packages (from spotipy) (5.2.0)\r\n",
      "Requirement already satisfied: requests>=2.25.0 in /Users/farhan/anaconda3/lib/python3.11/site-packages (from spotipy) (2.31.0)\r\n",
      "Requirement already satisfied: urllib3>=1.26.0 in /Users/farhan/anaconda3/lib/python3.11/site-packages (from spotipy) (1.26.16)\r\n",
      "Requirement already satisfied: python-dateutil>=2.8.1 in /Users/farhan/anaconda3/lib/python3.11/site-packages (from pandas) (2.8.2)\r\n",
      "Requirement already satisfied: pytz>=2020.1 in /Users/farhan/anaconda3/lib/python3.11/site-packages (from pandas) (2022.7)\r\n",
      "Requirement already satisfied: numpy>=1.21.0 in /Users/farhan/anaconda3/lib/python3.11/site-packages (from pandas) (1.24.3)\r\n",
      "Requirement already satisfied: six>=1.5 in /Users/farhan/anaconda3/lib/python3.11/site-packages (from python-dateutil>=2.8.1->pandas) (1.16.0)\r\n",
      "Requirement already satisfied: charset-normalizer<4,>=2 in /Users/farhan/anaconda3/lib/python3.11/site-packages (from requests>=2.25.0->spotipy) (2.0.4)\r\n",
      "Requirement already satisfied: idna<4,>=2.5 in /Users/farhan/anaconda3/lib/python3.11/site-packages (from requests>=2.25.0->spotipy) (3.4)\r\n",
      "Requirement already satisfied: certifi>=2017.4.17 in /Users/farhan/anaconda3/lib/python3.11/site-packages (from requests>=2.25.0->spotipy) (2023.7.22)\r\n"
     ]
    }
   ],
   "source": [
    "# Install required libraries\n",
    "!pip install spotipy pandas\n"
   ]
  },
  {
   "cell_type": "markdown",
   "id": "8aeba015",
   "metadata": {},
   "source": [
    "###  Authentication with Spotify API"
   ]
  },
  {
   "cell_type": "code",
   "execution_count": 2,
   "id": "45e92e3c",
   "metadata": {},
   "outputs": [
    {
     "name": "stdout",
     "output_type": "stream",
     "text": [
      "Authentication successful!\n"
     ]
    }
   ],
   "source": [
    "import spotipy\n",
    "from spotipy.oauth2 import SpotifyOAuth\n",
    "\n",
    "# Spotify API credentials\n",
    "client_id = \"2203ef17b67c4cd08affbf355b164b0b\"  # Client ID\n",
    "client_secret = \"8d5ccac168e146dfafe817e5b1e05fd0\"  # Client Secret\n",
    "\n",
    "# Authenticate with Spotify\n",
    "sp = spotipy.Spotify(auth_manager=SpotifyOAuth(\n",
    "    client_id=client_id,\n",
    "    client_secret=client_secret,\n",
    "    redirect_uri=\"http://localhost:6060/callback\",\n",
    "    scope=\"playlist-read-private\"\n",
    "))\n",
    "print(\"Authentication successful!\")"
   ]
  },
  {
   "cell_type": "markdown",
   "id": "78558c24",
   "metadata": {},
   "source": [
    "## Extract"
   ]
  },
  {
   "cell_type": "markdown",
   "id": "a73cf3ec",
   "metadata": {},
   "source": [
    "### Extract Playlist Data"
   ]
  },
  {
   "cell_type": "markdown",
   "id": "8e4bca63",
   "metadata": {},
   "source": [
    "I will be choosing my personal favorite spotify playlist 'Rap' and extract the playlist data."
   ]
  },
  {
   "cell_type": "code",
   "execution_count": 3,
   "id": "4bf7cd77",
   "metadata": {},
   "outputs": [
    {
     "data": {
      "text/plain": [
       "[{'Track Name': 'Toosie Slide',\n",
       "  'Artist': 'Drake',\n",
       "  'Album': 'Dark Lane Demo Tapes',\n",
       "  'Release Date': '2020-05-01',\n",
       "  'Popularity': 66},\n",
       " {'Track Name': 'Chicago Freestyle (feat. Giveon)',\n",
       "  'Artist': 'Drake',\n",
       "  'Album': 'Dark Lane Demo Tapes',\n",
       "  'Release Date': '2020-05-01',\n",
       "  'Popularity': 76},\n",
       " {'Track Name': 'Money In The Grave (Drake ft. Rick Ross)',\n",
       "  'Artist': 'Drake',\n",
       "  'Album': 'The Best In The World Pack',\n",
       "  'Release Date': '2019-06-15',\n",
       "  'Popularity': 73},\n",
       " {'Track Name': \"God's Plan\",\n",
       "  'Artist': 'Drake',\n",
       "  'Album': 'Scorpion',\n",
       "  'Release Date': '2018-06-29',\n",
       "  'Popularity': 81},\n",
       " {'Track Name': 'Nonstop',\n",
       "  'Artist': 'Drake',\n",
       "  'Album': 'Scorpion',\n",
       "  'Release Date': '2018-06-29',\n",
       "  'Popularity': 74}]"
      ]
     },
     "execution_count": 3,
     "metadata": {},
     "output_type": "execute_result"
    }
   ],
   "source": [
    "playlist_id = \"2O6rARZJi8IoXLiUdXZPJ3\" # Personal playlist\n",
    "results = sp.playlist_tracks(playlist_id)\n",
    "\n",
    "\n",
    "# Extract track details\n",
    "track_data = []\n",
    "for item in results['items']:\n",
    "    track = item['track']\n",
    "    track_data.append({\n",
    "        'Track Name': track['name'],\n",
    "        'Artist': track['artists'][0]['name'],\n",
    "        'Album': track['album']['name'],\n",
    "        'Release Date': track['album']['release_date'],\n",
    "        'Popularity': track['popularity']\n",
    "    })\n",
    "\n",
    "# Display first 5 tracks\n",
    "track_data[:5]"
   ]
  },
  {
   "cell_type": "markdown",
   "id": "f28f97f8",
   "metadata": {},
   "source": [
    "### Saving data to CSV"
   ]
  },
  {
   "cell_type": "code",
   "execution_count": 5,
   "id": "6aad990c",
   "metadata": {
    "scrolled": true
   },
   "outputs": [
    {
     "data": {
      "text/html": [
       "<div>\n",
       "<style scoped>\n",
       "    .dataframe tbody tr th:only-of-type {\n",
       "        vertical-align: middle;\n",
       "    }\n",
       "\n",
       "    .dataframe tbody tr th {\n",
       "        vertical-align: top;\n",
       "    }\n",
       "\n",
       "    .dataframe thead th {\n",
       "        text-align: right;\n",
       "    }\n",
       "</style>\n",
       "<table border=\"1\" class=\"dataframe\">\n",
       "  <thead>\n",
       "    <tr style=\"text-align: right;\">\n",
       "      <th></th>\n",
       "      <th>Track Name</th>\n",
       "      <th>Artist</th>\n",
       "      <th>Album</th>\n",
       "      <th>Release Date</th>\n",
       "      <th>Popularity</th>\n",
       "    </tr>\n",
       "  </thead>\n",
       "  <tbody>\n",
       "    <tr>\n",
       "      <th>0</th>\n",
       "      <td>Toosie Slide</td>\n",
       "      <td>Drake</td>\n",
       "      <td>Dark Lane Demo Tapes</td>\n",
       "      <td>2020-05-01</td>\n",
       "      <td>66</td>\n",
       "    </tr>\n",
       "    <tr>\n",
       "      <th>1</th>\n",
       "      <td>Chicago Freestyle (feat. Giveon)</td>\n",
       "      <td>Drake</td>\n",
       "      <td>Dark Lane Demo Tapes</td>\n",
       "      <td>2020-05-01</td>\n",
       "      <td>76</td>\n",
       "    </tr>\n",
       "    <tr>\n",
       "      <th>2</th>\n",
       "      <td>Money In The Grave (Drake ft. Rick Ross)</td>\n",
       "      <td>Drake</td>\n",
       "      <td>The Best In The World Pack</td>\n",
       "      <td>2019-06-15</td>\n",
       "      <td>73</td>\n",
       "    </tr>\n",
       "    <tr>\n",
       "      <th>3</th>\n",
       "      <td>God's Plan</td>\n",
       "      <td>Drake</td>\n",
       "      <td>Scorpion</td>\n",
       "      <td>2018-06-29</td>\n",
       "      <td>81</td>\n",
       "    </tr>\n",
       "    <tr>\n",
       "      <th>4</th>\n",
       "      <td>Nonstop</td>\n",
       "      <td>Drake</td>\n",
       "      <td>Scorpion</td>\n",
       "      <td>2018-06-29</td>\n",
       "      <td>74</td>\n",
       "    </tr>\n",
       "  </tbody>\n",
       "</table>\n",
       "</div>"
      ],
      "text/plain": [
       "                                 Track Name Artist  \\\n",
       "0                              Toosie Slide  Drake   \n",
       "1          Chicago Freestyle (feat. Giveon)  Drake   \n",
       "2  Money In The Grave (Drake ft. Rick Ross)  Drake   \n",
       "3                                God's Plan  Drake   \n",
       "4                                   Nonstop  Drake   \n",
       "\n",
       "                        Album Release Date  Popularity  \n",
       "0        Dark Lane Demo Tapes   2020-05-01          66  \n",
       "1        Dark Lane Demo Tapes   2020-05-01          76  \n",
       "2  The Best In The World Pack   2019-06-15          73  \n",
       "3                    Scorpion   2018-06-29          81  \n",
       "4                    Scorpion   2018-06-29          74  "
      ]
     },
     "execution_count": 5,
     "metadata": {},
     "output_type": "execute_result"
    }
   ],
   "source": [
    "import pandas as pd\n",
    "\n",
    "# Convert track data to a DataFrame\n",
    "df = pd.DataFrame(track_data)\n",
    "\n",
    "# Save to CSV\n",
    "df.to_csv('rap_playlist_tracks.csv', index=False)\n",
    "df.head()\n"
   ]
  },
  {
   "cell_type": "markdown",
   "id": "f8dfb98d",
   "metadata": {},
   "source": [
    "## Transform"
   ]
  },
  {
   "cell_type": "markdown",
   "id": "1ad7682d",
   "metadata": {},
   "source": [
    "### Transforming the Data"
   ]
  },
  {
   "cell_type": "markdown",
   "id": "475ec61d",
   "metadata": {},
   "source": [
    "In this step, we will clean and prepare the extracted data for storage in a database. This includes tasks like normalizing fields, handling missing data, and adding calculated metrics."
   ]
  },
  {
   "cell_type": "code",
   "execution_count": 6,
   "id": "e0895ab2",
   "metadata": {},
   "outputs": [
    {
     "data": {
      "text/html": [
       "<div>\n",
       "<style scoped>\n",
       "    .dataframe tbody tr th:only-of-type {\n",
       "        vertical-align: middle;\n",
       "    }\n",
       "\n",
       "    .dataframe tbody tr th {\n",
       "        vertical-align: top;\n",
       "    }\n",
       "\n",
       "    .dataframe thead th {\n",
       "        text-align: right;\n",
       "    }\n",
       "</style>\n",
       "<table border=\"1\" class=\"dataframe\">\n",
       "  <thead>\n",
       "    <tr style=\"text-align: right;\">\n",
       "      <th></th>\n",
       "      <th>Track Name</th>\n",
       "      <th>Artist</th>\n",
       "      <th>Album</th>\n",
       "      <th>Release Date</th>\n",
       "      <th>Popularity</th>\n",
       "    </tr>\n",
       "  </thead>\n",
       "  <tbody>\n",
       "    <tr>\n",
       "      <th>0</th>\n",
       "      <td>Toosie Slide</td>\n",
       "      <td>Drake</td>\n",
       "      <td>Dark Lane Demo Tapes</td>\n",
       "      <td>2020-05-01</td>\n",
       "      <td>66</td>\n",
       "    </tr>\n",
       "    <tr>\n",
       "      <th>1</th>\n",
       "      <td>Chicago Freestyle (feat. Giveon)</td>\n",
       "      <td>Drake</td>\n",
       "      <td>Dark Lane Demo Tapes</td>\n",
       "      <td>2020-05-01</td>\n",
       "      <td>76</td>\n",
       "    </tr>\n",
       "    <tr>\n",
       "      <th>2</th>\n",
       "      <td>Money In The Grave (Drake ft. Rick Ross)</td>\n",
       "      <td>Drake</td>\n",
       "      <td>The Best In The World Pack</td>\n",
       "      <td>2019-06-15</td>\n",
       "      <td>73</td>\n",
       "    </tr>\n",
       "    <tr>\n",
       "      <th>3</th>\n",
       "      <td>God's Plan</td>\n",
       "      <td>Drake</td>\n",
       "      <td>Scorpion</td>\n",
       "      <td>2018-06-29</td>\n",
       "      <td>81</td>\n",
       "    </tr>\n",
       "    <tr>\n",
       "      <th>4</th>\n",
       "      <td>Nonstop</td>\n",
       "      <td>Drake</td>\n",
       "      <td>Scorpion</td>\n",
       "      <td>2018-06-29</td>\n",
       "      <td>74</td>\n",
       "    </tr>\n",
       "  </tbody>\n",
       "</table>\n",
       "</div>"
      ],
      "text/plain": [
       "                                 Track Name Artist  \\\n",
       "0                              Toosie Slide  Drake   \n",
       "1          Chicago Freestyle (feat. Giveon)  Drake   \n",
       "2  Money In The Grave (Drake ft. Rick Ross)  Drake   \n",
       "3                                God's Plan  Drake   \n",
       "4                                   Nonstop  Drake   \n",
       "\n",
       "                        Album Release Date  Popularity  \n",
       "0        Dark Lane Demo Tapes   2020-05-01          66  \n",
       "1        Dark Lane Demo Tapes   2020-05-01          76  \n",
       "2  The Best In The World Pack   2019-06-15          73  \n",
       "3                    Scorpion   2018-06-29          81  \n",
       "4                    Scorpion   2018-06-29          74  "
      ]
     },
     "execution_count": 6,
     "metadata": {},
     "output_type": "execute_result"
    }
   ],
   "source": [
    "import pandas as pd\n",
    "\n",
    "# Load the CSV file\n",
    "df = pd.read_csv('rap_playlist_tracks.csv')\n",
    "\n",
    "# Display the first few rows\n",
    "df.head()\n"
   ]
  },
  {
   "cell_type": "markdown",
   "id": "c8a4b039",
   "metadata": {},
   "source": [
    "Inspecting the data"
   ]
  },
  {
   "cell_type": "code",
   "execution_count": 7,
   "id": "b55f6e21",
   "metadata": {},
   "outputs": [
    {
     "name": "stdout",
     "output_type": "stream",
     "text": [
      "<class 'pandas.core.frame.DataFrame'>\n",
      "RangeIndex: 96 entries, 0 to 95\n",
      "Data columns (total 5 columns):\n",
      " #   Column        Non-Null Count  Dtype \n",
      "---  ------        --------------  ----- \n",
      " 0   Track Name    96 non-null     object\n",
      " 1   Artist        96 non-null     object\n",
      " 2   Album         96 non-null     object\n",
      " 3   Release Date  96 non-null     object\n",
      " 4   Popularity    96 non-null     int64 \n",
      "dtypes: int64(1), object(4)\n",
      "memory usage: 3.9+ KB\n",
      "None\n",
      "       Popularity\n",
      "count    96.00000\n",
      "mean     64.81250\n",
      "std      14.82978\n",
      "min       0.00000\n",
      "25%      58.75000\n",
      "50%      66.00000\n",
      "75%      74.25000\n",
      "max      85.00000\n",
      "Track Name      0\n",
      "Artist          0\n",
      "Album           0\n",
      "Release Date    0\n",
      "Popularity      0\n",
      "dtype: int64\n"
     ]
    }
   ],
   "source": [
    "# Display column data types and summary\n",
    "print(df.info())\n",
    "\n",
    "# Summary statistics\n",
    "print(df.describe())\n",
    "\n",
    "# Check for missing values\n",
    "print(df.isnull().sum())\n"
   ]
  },
  {
   "cell_type": "markdown",
   "id": "921ee10b",
   "metadata": {},
   "source": [
    "Converting 'Release Date' to datetime format"
   ]
  },
  {
   "cell_type": "code",
   "execution_count": 8,
   "id": "912b102d",
   "metadata": {},
   "outputs": [],
   "source": [
    "# Convert 'Release Date' to datetime and extract the year\n",
    "df['Release Date'] = pd.to_datetime(df['Release Date'], errors='coerce')\n",
    "df['Release Year'] = df['Release Date'].dt.year\n"
   ]
  },
  {
   "cell_type": "markdown",
   "id": "fd144830",
   "metadata": {},
   "source": [
    "Scaling popularity to a range of 0–1"
   ]
  },
  {
   "cell_type": "code",
   "execution_count": 9,
   "id": "9702f847",
   "metadata": {},
   "outputs": [],
   "source": [
    "from sklearn.preprocessing import MinMaxScaler\n",
    "\n",
    "scaler = MinMaxScaler()\n",
    "df['Popularity Scaled'] = scaler.fit_transform(df[['Popularity']])\n"
   ]
  },
  {
   "cell_type": "code",
   "execution_count": 11,
   "id": "3468c43d",
   "metadata": {},
   "outputs": [],
   "source": [
    "df['Track Name Length'] = df['Track Name'].apply(len) # For Analysis"
   ]
  },
  {
   "cell_type": "markdown",
   "id": "e9bac633",
   "metadata": {},
   "source": [
    "### Some basic visual insights"
   ]
  },
  {
   "cell_type": "code",
   "execution_count": null,
   "id": "abd6c361",
   "metadata": {},
   "outputs": [],
   "source": [
    "import matplotlib.pyplot as plt"
   ]
  },
  {
   "cell_type": "markdown",
   "id": "da9abe9e",
   "metadata": {},
   "source": [
    "#### Lets find out the top 10 most frequent artists"
   ]
  },
  {
   "cell_type": "code",
   "execution_count": 13,
   "id": "f6d2a8c0",
   "metadata": {},
   "outputs": [
    {
     "data": {
      "image/png": "[encoded data removed]",
      "text/plain": [
       "<Figure size 1000x600 with 1 Axes>"
      ]
     },
     "metadata": {},
     "output_type": "display_data"
    }
   ],
   "source": [
    "# Count the frequency of each artist\n",
    "artist_counts = df['Artist'].value_counts().head(10)\n",
    "\n",
    "# Plot the top 10 most frequent artists\n",
    "plt.figure(figsize=(10, 6))\n",
    "artist_counts.plot(kind='bar', color='purple')\n",
    "plt.title('Top 10 Most Frequent Artists')\n",
    "plt.xlabel('Artist')\n",
    "plt.ylabel('Number of Tracks')\n",
    "plt.xticks(rotation=45)\n",
    "plt.show()\n"
   ]
  },
  {
   "cell_type": "markdown",
   "id": "035dee45",
   "metadata": {},
   "source": [
    "Hence confirmed Drake is definetely my favorite rapper."
   ]
  },
  {
   "cell_type": "markdown",
   "id": "ff6f55bd",
   "metadata": {},
   "source": [
    "#### Lets visualise top 10 most popular tracks"
   ]
  },
  {
   "cell_type": "code",
   "execution_count": 22,
   "id": "60902393",
   "metadata": {},
   "outputs": [
    {
     "data": {
      "image/png": "[encoded data removed]",
      "text/plain": [
       "<Figure size 1200x600 with 1 Axes>"
      ]
     },
     "metadata": {},
     "output_type": "display_data"
    }
   ],
   "source": [
    "# Sort tracks by popularity and get top 10\n",
    "top_10_tracks = df[['Track Name', 'Artist', 'Album', 'Popularity']].sort_values(by='Popularity', ascending=False).head(10)\n",
    "\n",
    "# Plot a horizontal bar chart\n",
    "plt.figure(figsize=(12, 6))\n",
    "bars = plt.barh(top_10_tracks['Track Name'], top_10_tracks['Popularity'], color='skyblue')\n",
    "plt.title('Top 10 Most Popular Tracks')\n",
    "plt.xlabel('Popularity')\n",
    "plt.ylabel('Track Name')\n",
    "plt.gca().invert_yaxis()  # Highest popularity at the top\n",
    "\n",
    "# Add popularity values on the bars\n",
    "for bar in bars:\n",
    "    plt.text(bar.get_width() + 1, bar.get_y() + bar.get_height()/2,  # Position text at end of bar\n",
    "             f'{bar.get_width():.0f}', va='center')\n",
    "\n",
    "plt.show()\n",
    "\n"
   ]
  },
  {
   "cell_type": "markdown",
   "id": "a027902b",
   "metadata": {},
   "source": [
    "Ofcourse Travis Scott has the most popular songs at the top."
   ]
  },
  {
   "cell_type": "markdown",
   "id": "66a60b58",
   "metadata": {},
   "source": [
    "### Saving transformed data"
   ]
  },
  {
   "cell_type": "code",
   "execution_count": 25,
   "id": "0860dd66",
   "metadata": {},
   "outputs": [
    {
     "name": "stdout",
     "output_type": "stream",
     "text": [
      "Transformed data saved to rap_playlist_transformed.csv\n"
     ]
    }
   ],
   "source": [
    "# Save the transformed DataFrame\n",
    "df.to_csv('rap_playlist_transformed.csv', index=False)\n",
    "print(\"Transformed data saved to rap_playlist_transformed.csv\")\n"
   ]
  },
  {
   "cell_type": "markdown",
   "id": "04d765f9",
   "metadata": {},
   "source": [
    "## Load"
   ]
  },
  {
   "cell_type": "code",
   "execution_count": 3,
   "id": "266110a9",
   "metadata": {},
   "outputs": [
    {
     "name": "stdout",
     "output_type": "stream",
     "text": [
      "Collecting pyodbc\n",
      "  Downloading pyodbc-5.2.0-cp313-cp313-macosx_11_0_arm64.whl.metadata (2.7 kB)\n",
      "Requirement already satisfied: sqlalchemy in /Library/Frameworks/Python.framework/Versions/3.13/lib/python3.13/site-packages (2.0.36)\n",
      "Requirement already satisfied: pandas in /Library/Frameworks/Python.framework/Versions/3.13/lib/python3.13/site-packages (2.2.3)\n",
      "Requirement already satisfied: typing-extensions>=4.6.0 in /Library/Frameworks/Python.framework/Versions/3.13/lib/python3.13/site-packages (from sqlalchemy) (4.12.2)\n",
      "Requirement already satisfied: numpy>=1.26.0 in /Library/Frameworks/Python.framework/Versions/3.13/lib/python3.13/site-packages (from pandas) (2.1.3)\n",
      "Requirement already satisfied: python-dateutil>=2.8.2 in /Library/Frameworks/Python.framework/Versions/3.13/lib/python3.13/site-packages (from pandas) (2.9.0.post0)\n",
      "Requirement already satisfied: pytz>=2020.1 in /Library/Frameworks/Python.framework/Versions/3.13/lib/python3.13/site-packages (from pandas) (2024.2)\n",
      "Requirement already satisfied: tzdata>=2022.7 in /Library/Frameworks/Python.framework/Versions/3.13/lib/python3.13/site-packages (from pandas) (2024.2)\n",
      "Requirement already satisfied: six>=1.5 in /Library/Frameworks/Python.framework/Versions/3.13/lib/python3.13/site-packages (from python-dateutil>=2.8.2->pandas) (1.17.0)\n",
      "Downloading pyodbc-5.2.0-cp313-cp313-macosx_11_0_arm64.whl (72 kB)\n",
      "Installing collected packages: pyodbc\n",
      "Successfully installed pyodbc-5.2.0\n",
      "Note: you may need to restart the kernel to use updated packages.\n"
     ]
    }
   ],
   "source": [
    "!pip install pyodbc sqlalchemy pandas"
   ]
  },
  {
   "cell_type": "markdown",
   "id": "710cabe0",
   "metadata": {},
   "source": [
    "Connecting to Azure SQL database and loading the CSV file"
   ]
  },
  {
   "cell_type": "code",
   "execution_count": 5,
   "id": "4b43154f",
   "metadata": {},
   "outputs": [
    {
     "name": "stdout",
     "output_type": "stream",
     "text": [
      "Connection Successful\n"
     ]
    }
   ],
   "source": [
    "from sqlalchemy import create_engine\n",
    "import pandas as pd\n",
    "\n",
    "# Load the transformed CSV data\n",
    "df = pd.read_csv('rap_playlist_transformed.csv')\n",
    "\n",
    "# Database connection details\n",
    "server = 'spotify-sql-server.database.windows.net'  # Replace with your Azure SQL server\n",
    "database = 'SpotifyDB'\n",
    "username = 'SQL_server'  # SQL username\n",
    "password = 'Tajmahal1'  # SQL password\n",
    "driver = 'ODBC Driver 18 for SQL Server'\n",
    "\n",
    "# Creating a database connection\n",
    "connection_string = f\"mssql+pyodbc://{username}:{password}@{server}/{database}?driver={driver}\"\n",
    "engine = create_engine(connection_string)\n",
    "\n",
    "print(\"Connection Successful\")\n"
   ]
  },
  {
   "cell_type": "code",
   "execution_count": 6,
   "id": "3538d1c3",
   "metadata": {},
   "outputs": [
    {
     "name": "stdout",
     "output_type": "stream",
     "text": [
      "Data successfully loaded into table 'RapPlaylist'!\n"
     ]
    }
   ],
   "source": [
    "# Write data to SQL table\n",
    "table_name = 'RapPlaylist'\n",
    "df.to_sql(table_name, engine, if_exists='replace', index=False)\n",
    "print(f\"Data successfully loaded into table '{table_name}'!\")"
   ]
  },
  {
   "cell_type": "code",
   "execution_count": 7,
   "id": "95536cf4",
   "metadata": {},
   "outputs": [
    {
     "name": "stdout",
     "output_type": "stream",
     "text": [
      "Data successfully fetched from the SQL table.\n"
     ]
    },
    {
     "data": {
      "text/html": [
       "<div>\n",
       "<style scoped>\n",
       "    .dataframe tbody tr th:only-of-type {\n",
       "        vertical-align: middle;\n",
       "    }\n",
       "\n",
       "    .dataframe tbody tr th {\n",
       "        vertical-align: top;\n",
       "    }\n",
       "\n",
       "    .dataframe thead th {\n",
       "        text-align: right;\n",
       "    }\n",
       "</style>\n",
       "<table border=\"1\" class=\"dataframe\">\n",
       "  <thead>\n",
       "    <tr style=\"text-align: right;\">\n",
       "      <th></th>\n",
       "      <th>Track Name</th>\n",
       "      <th>Artist</th>\n",
       "      <th>Album</th>\n",
       "      <th>Release Date</th>\n",
       "      <th>Popularity</th>\n",
       "      <th>Release Year</th>\n",
       "      <th>Popularity Scaled</th>\n",
       "      <th>Track Name Length</th>\n",
       "    </tr>\n",
       "  </thead>\n",
       "  <tbody>\n",
       "    <tr>\n",
       "      <th>0</th>\n",
       "      <td>Toosie Slide</td>\n",
       "      <td>Drake</td>\n",
       "      <td>Dark Lane Demo Tapes</td>\n",
       "      <td>2020-05-01</td>\n",
       "      <td>66</td>\n",
       "      <td>2020</td>\n",
       "      <td>0.776471</td>\n",
       "      <td>12</td>\n",
       "    </tr>\n",
       "    <tr>\n",
       "      <th>1</th>\n",
       "      <td>Chicago Freestyle (feat. Giveon)</td>\n",
       "      <td>Drake</td>\n",
       "      <td>Dark Lane Demo Tapes</td>\n",
       "      <td>2020-05-01</td>\n",
       "      <td>76</td>\n",
       "      <td>2020</td>\n",
       "      <td>0.894118</td>\n",
       "      <td>32</td>\n",
       "    </tr>\n",
       "    <tr>\n",
       "      <th>2</th>\n",
       "      <td>Money In The Grave (Drake ft. Rick Ross)</td>\n",
       "      <td>Drake</td>\n",
       "      <td>The Best In The World Pack</td>\n",
       "      <td>2019-06-15</td>\n",
       "      <td>73</td>\n",
       "      <td>2019</td>\n",
       "      <td>0.858824</td>\n",
       "      <td>40</td>\n",
       "    </tr>\n",
       "    <tr>\n",
       "      <th>3</th>\n",
       "      <td>God's Plan</td>\n",
       "      <td>Drake</td>\n",
       "      <td>Scorpion</td>\n",
       "      <td>2018-06-29</td>\n",
       "      <td>81</td>\n",
       "      <td>2018</td>\n",
       "      <td>0.952941</td>\n",
       "      <td>10</td>\n",
       "    </tr>\n",
       "    <tr>\n",
       "      <th>4</th>\n",
       "      <td>Nonstop</td>\n",
       "      <td>Drake</td>\n",
       "      <td>Scorpion</td>\n",
       "      <td>2018-06-29</td>\n",
       "      <td>74</td>\n",
       "      <td>2018</td>\n",
       "      <td>0.870588</td>\n",
       "      <td>7</td>\n",
       "    </tr>\n",
       "    <tr>\n",
       "      <th>...</th>\n",
       "      <td>...</td>\n",
       "      <td>...</td>\n",
       "      <td>...</td>\n",
       "      <td>...</td>\n",
       "      <td>...</td>\n",
       "      <td>...</td>\n",
       "      <td>...</td>\n",
       "      <td>...</td>\n",
       "    </tr>\n",
       "    <tr>\n",
       "      <th>91</th>\n",
       "      <td>WHATS POPPIN (feat. DaBaby, Tory Lanez &amp; Lil W...</td>\n",
       "      <td>Jack Harlow</td>\n",
       "      <td>WHATS POPPIN (feat. DaBaby, Tory Lanez &amp; Lil W...</td>\n",
       "      <td>2020-06-24</td>\n",
       "      <td>64</td>\n",
       "      <td>2020</td>\n",
       "      <td>0.752941</td>\n",
       "      <td>59</td>\n",
       "    </tr>\n",
       "    <tr>\n",
       "      <th>92</th>\n",
       "      <td>WHATS POPPIN</td>\n",
       "      <td>Jack Harlow</td>\n",
       "      <td>Sweet Action</td>\n",
       "      <td>2020-03-13</td>\n",
       "      <td>73</td>\n",
       "      <td>2020</td>\n",
       "      <td>0.858824</td>\n",
       "      <td>12</td>\n",
       "    </tr>\n",
       "    <tr>\n",
       "      <th>93</th>\n",
       "      <td>CrasH</td>\n",
       "      <td>ScHoolboy Q</td>\n",
       "      <td>CrasH Talk</td>\n",
       "      <td>2019-04-26</td>\n",
       "      <td>58</td>\n",
       "      <td>2019</td>\n",
       "      <td>0.682353</td>\n",
       "      <td>5</td>\n",
       "    </tr>\n",
       "    <tr>\n",
       "      <th>94</th>\n",
       "      <td>Said N Done</td>\n",
       "      <td>21 Savage</td>\n",
       "      <td>SAVAGE MODE II</td>\n",
       "      <td>2020-10-02</td>\n",
       "      <td>57</td>\n",
       "      <td>2020</td>\n",
       "      <td>0.670588</td>\n",
       "      <td>11</td>\n",
       "    </tr>\n",
       "    <tr>\n",
       "      <th>95</th>\n",
       "      <td>née-nah</td>\n",
       "      <td>21 Savage</td>\n",
       "      <td>née-nah</td>\n",
       "      <td>2024-01-10</td>\n",
       "      <td>60</td>\n",
       "      <td>2024</td>\n",
       "      <td>0.705882</td>\n",
       "      <td>7</td>\n",
       "    </tr>\n",
       "  </tbody>\n",
       "</table>\n",
       "<p>96 rows × 8 columns</p>\n",
       "</div>"
      ],
      "text/plain": [
       "                                           Track Name       Artist  \\\n",
       "0                                        Toosie Slide        Drake   \n",
       "1                    Chicago Freestyle (feat. Giveon)        Drake   \n",
       "2            Money In The Grave (Drake ft. Rick Ross)        Drake   \n",
       "3                                          God's Plan        Drake   \n",
       "4                                             Nonstop        Drake   \n",
       "..                                                ...          ...   \n",
       "91  WHATS POPPIN (feat. DaBaby, Tory Lanez & Lil W...  Jack Harlow   \n",
       "92                                       WHATS POPPIN  Jack Harlow   \n",
       "93                                              CrasH  ScHoolboy Q   \n",
       "94                                        Said N Done    21 Savage   \n",
       "95                                            née-nah    21 Savage   \n",
       "\n",
       "                                                Album Release Date  \\\n",
       "0                                Dark Lane Demo Tapes   2020-05-01   \n",
       "1                                Dark Lane Demo Tapes   2020-05-01   \n",
       "2                          The Best In The World Pack   2019-06-15   \n",
       "3                                            Scorpion   2018-06-29   \n",
       "4                                            Scorpion   2018-06-29   \n",
       "..                                                ...          ...   \n",
       "91  WHATS POPPIN (feat. DaBaby, Tory Lanez & Lil W...   2020-06-24   \n",
       "92                                       Sweet Action   2020-03-13   \n",
       "93                                         CrasH Talk   2019-04-26   \n",
       "94                                     SAVAGE MODE II   2020-10-02   \n",
       "95                                            née-nah   2024-01-10   \n",
       "\n",
       "    Popularity  Release Year  Popularity Scaled  Track Name Length  \n",
       "0           66          2020           0.776471                 12  \n",
       "1           76          2020           0.894118                 32  \n",
       "2           73          2019           0.858824                 40  \n",
       "3           81          2018           0.952941                 10  \n",
       "4           74          2018           0.870588                  7  \n",
       "..         ...           ...                ...                ...  \n",
       "91          64          2020           0.752941                 59  \n",
       "92          73          2020           0.858824                 12  \n",
       "93          58          2019           0.682353                  5  \n",
       "94          57          2020           0.670588                 11  \n",
       "95          60          2024           0.705882                  7  \n",
       "\n",
       "[96 rows x 8 columns]"
      ]
     },
     "metadata": {},
     "output_type": "display_data"
    }
   ],
   "source": [
    "query = f\"SELECT * FROM {table_name}\"\n",
    "\n",
    "try:\n",
    "    # Load SQL table into a DataFrame\n",
    "    df = pd.read_sql(query, engine)\n",
    "    print(\"Data successfully fetched from the SQL table.\")\n",
    "    display(df)\n",
    "except Exception as e:\n",
    "    print(f\"Error fetching data: {e}\")"
   ]
  }
 ],
 "metadata": {
  "kernelspec": {
   "display_name": "Python 3.13",
   "language": "python",
   "name": "python3.13"
  },
  "language_info": {
   "codemirror_mode": {
    "name": "ipython",
    "version": 3
   },
   "file_extension": ".py",
   "mimetype": "text/x-python",
   "name": "python",
   "nbconvert_exporter": "python",
   "pygments_lexer": "ipython3",
   "version": "3.13.1"
  }
 },
 "nbformat": 4,
 "nbformat_minor": 5
}
